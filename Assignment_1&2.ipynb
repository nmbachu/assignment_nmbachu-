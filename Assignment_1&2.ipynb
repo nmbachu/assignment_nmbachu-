{
 "cells": [
  {
   "cell_type": "markdown",
   "metadata": {},
   "source": [
    "# Assignment 1 and 2"
   ]
  },
  {
   "cell_type": "markdown",
   "metadata": {},
   "source": [
    "**Please follow the instructions. Do not add new cell! Write your code in designated areas.**"
   ]
  },
  {
   "cell_type": "code",
   "execution_count": 2,
   "metadata": {},
   "outputs": [
    {
     "name": "stdout",
     "output_type": "stream",
     "text": [
      "Assignment 1 & 2: Solutions by Nkem Mbachu\n",
      "Local Time: 2023-06-28 09:17:11\n",
      "Computer ID: Nkem\n"
     ]
    }
   ],
   "source": [
    "import datetime\n",
    "import socket\n",
    "\n",
    "# Get local time\n",
    "local_time = datetime.datetime.now().strftime(\"%Y-%m-%d %H:%M:%S\")\n",
    "\n",
    "# Get computer ID or hostname\n",
    "computer_id = socket.gethostname()\n",
    "\n",
    "# Print output with local time and computer ID\n",
    "print('Assignment 1 & 2: Solutions by Nkem Mbachu') # Please change your name here\n",
    "print('Local Time:', local_time)\n",
    "print('Computer ID:', computer_id)"
   ]
  },
  {
   "cell_type": "markdown",
   "metadata": {},
   "source": [
    "## Exercise 1: String Manipulation"
   ]
  },
  {
   "cell_type": "markdown",
   "metadata": {},
   "source": [
    "Create a function that takes a string parameter representing a crop name and returns the crop name in uppercase letters. Keys: str, upper()"
   ]
  },
  {
   "cell_type": "code",
   "execution_count": 13,
   "metadata": {},
   "outputs": [
    {
     "name": "stdout",
     "output_type": "stream",
     "text": [
      "TOMATO\n"
     ]
    }
   ],
   "source": [
    "## Your code here down\n",
    "def get_crop_name_in_uppercase(crop_name):\n",
    "    return crop_name.upper()\n",
    "\n",
    "crop = \"tomato\"\n",
    "crop_in_uppercase = get_crop_name_in_uppercase(crop)\n",
    "print(crop_in_uppercase)\n",
    "\n",
    "## Your code here up"
   ]
  },
  {
   "cell_type": "markdown",
   "metadata": {},
   "source": [
    "## Exercise 2: Crop Count"
   ]
  },
  {
   "cell_type": "markdown",
   "metadata": {},
   "source": [
    "Create a function that takes a list of crop names (lentil, barly, canola, spring wheat, durum wheat, oats, alfalfa) and returns the total count of crops. Keys: list, leng."
   ]
  },
  {
   "cell_type": "code",
   "execution_count": 14,
   "metadata": {},
   "outputs": [
    {
     "name": "stdout",
     "output_type": "stream",
     "text": [
      "7\n"
     ]
    }
   ],
   "source": [
    "## Your code here down\n",
    "def count_crops(crop_list):\n",
    "    return len(crop_list)\n",
    "\n",
    "crops = [\"lentil\", \"barley\", \"canola\", \"spring wheat\", \"durum wheat\", \"oats\", \"alfalfa\"]\n",
    "total_count = count_crops(crops)\n",
    "print(total_count)\n",
    "\n",
    "## Your code here up"
   ]
  },
  {
   "cell_type": "markdown",
   "metadata": {},
   "source": [
    "## Exercise 3: Temperature Conversion"
   ]
  },
  {
   "cell_type": "markdown",
   "metadata": {},
   "source": [
    "Create a function that takes a temperature in Celsius and converts it to Fahrenheit. Return the converted temperature. Keys:def, find converter."
   ]
  },
  {
   "cell_type": "code",
   "execution_count": 15,
   "metadata": {},
   "outputs": [
    {
     "name": "stdout",
     "output_type": "stream",
     "text": [
      "77.0\n"
     ]
    }
   ],
   "source": [
    "## Your code here down\n",
    "def celsius_to_fahrenheit(celsius):\n",
    "    fahrenheit = (celsius * 9/5) + 32\n",
    "    return fahrenheit\n",
    "\n",
    "temperature_celsius = 25\n",
    "temperature_fahrenheit = celsius_to_fahrenheit(temperature_celsius)\n",
    "print(temperature_fahrenheit)\n",
    "\n",
    "## Your code here up"
   ]
  },
  {
   "cell_type": "markdown",
   "metadata": {},
   "source": [
    "## Exercise 4: Crop Harvest"
   ]
  },
  {
   "cell_type": "markdown",
   "metadata": {},
   "source": [
    "Create a function that takes the yield of canola crop (in bushels) and returns a string indicating whether it's a high, moderate, or low yield. Keys: strings, if-else, print()"
   ]
  },
  {
   "cell_type": "code",
   "execution_count": 16,
   "metadata": {},
   "outputs": [
    {
     "name": "stdout",
     "output_type": "stream",
     "text": [
      "Moderate yield\n"
     ]
    }
   ],
   "source": [
    "## Your code here down\n",
    "def determine_yield_category(yield_bushels):\n",
    "    if yield_bushels >= 100:\n",
    "        return \"High yield\"\n",
    "    elif yield_bushels >= 50:\n",
    "        return \"Moderate yield\"\n",
    "    else:\n",
    "        return \"Low yield\"\n",
    "    \n",
    "canola_yield = 75\n",
    "yield_category = determine_yield_category(canola_yield)\n",
    "print(yield_category)\n",
    "\n",
    "## Your code here up"
   ]
  },
  {
   "cell_type": "markdown",
   "metadata": {},
   "source": [
    "## Exercise 5: Crop Average"
   ]
  },
  {
   "cell_type": "markdown",
   "metadata": {},
   "source": [
    "Create a function that takes a list of crop yields (spring wheat) and returns the average yield. Keys: list, average() or arithmetic average."
   ]
  },
  {
   "cell_type": "code",
   "execution_count": 17,
   "metadata": {},
   "outputs": [
    {
     "name": "stdout",
     "output_type": "stream",
     "text": [
      "60.0\n"
     ]
    }
   ],
   "source": [
    "## Your code here down\n",
    "def calculate_average_yield(yield_list):\n",
    "    total_yield = sum(yield_list)\n",
    "    average_yield = total_yield / len(yield_list)\n",
    "    return average_yield\n",
    "\n",
    "spring_wheat_yields = [50, 60, 55, 65, 70]\n",
    "average_yield = calculate_average_yield(spring_wheat_yields)\n",
    "print(average_yield)\n",
    "\n",
    "## Your code here up"
   ]
  },
  {
   "cell_type": "markdown",
   "metadata": {},
   "source": [
    "## Exercise 6: Crop Recommendation"
   ]
  },
  {
   "cell_type": "markdown",
   "metadata": {},
   "source": [
    "Create a function that takes the type of soil (brown, dark brown, black) as a parameter and returns a recommended crop (lentil, canola, oats) for that soil type. Keys: dict"
   ]
  },
  {
   "cell_type": "code",
   "execution_count": 18,
   "metadata": {},
   "outputs": [
    {
     "name": "stdout",
     "output_type": "stream",
     "text": [
      "canola\n"
     ]
    }
   ],
   "source": [
    "## Your code here down\n",
    "def recommend_crop(soil_type):\n",
    "    if soil_type == \"brown\":\n",
    "        return \"lentil\"\n",
    "    elif soil_type == \"dark brown\":\n",
    "        return \"canola\"\n",
    "    elif soil_type == \"black\":\n",
    "        return \"oats\"\n",
    "    else:\n",
    "        return \"Unknown soil type\"\n",
    "    \n",
    "soil = \"dark brown\"\n",
    "recommended_crop = recommend_crop(soil)\n",
    "print(recommended_crop)\n",
    "\n",
    "## Your code here up"
   ]
  },
  {
   "cell_type": "markdown",
   "metadata": {},
   "source": [
    "## Exercise 7: Crop Rotation"
   ]
  },
  {
   "cell_type": "markdown",
   "metadata": {},
   "source": [
    "Create a function that takes a list of crop names (lentil, barly, canola, spring wheat, durum wheat, oats) and rotates the crops by moving the last crop to the beginning of the list. Keys: list and list index"
   ]
  },
  {
   "cell_type": "code",
   "execution_count": 19,
   "metadata": {},
   "outputs": [
    {
     "name": "stdout",
     "output_type": "stream",
     "text": [
      "['oats', 'lentil', 'barley', 'canola', 'spring wheat', 'durum wheat']\n"
     ]
    }
   ],
   "source": [
    "## Your code here down\n",
    "def rotate_crops(crop_list):\n",
    "    if len(crop_list) > 0:\n",
    "        last_crop = crop_list.pop()\n",
    "        crop_list.insert(0, last_crop)\n",
    "    return crop_list\n",
    "\n",
    "crops = [\"lentil\", \"barley\", \"canola\", \"spring wheat\", \"durum wheat\", \"oats\"]\n",
    "rotated_crops = rotate_crops(crops)\n",
    "print(rotated_crops)\n",
    "\n",
    "## Your code here up"
   ]
  },
  {
   "cell_type": "markdown",
   "metadata": {},
   "source": [
    "# Exercise 8: Rainfall Analysis"
   ]
  },
  {
   "cell_type": "markdown",
   "metadata": {},
   "source": [
    "Create a function that takes a list of rainfall measurements (daily mm in a week) and returns the maximum and minimum rainfall values. Keys: min(), max(), lists"
   ]
  },
  {
   "cell_type": "code",
   "execution_count": 20,
   "metadata": {},
   "outputs": [
    {
     "name": "stdout",
     "output_type": "stream",
     "text": [
      "Minimum rainfall: 3\n",
      "Maximum rainfall: 15\n"
     ]
    }
   ],
   "source": [
    "## Your code here down\n",
    "def get_min_max_rainfall(rainfall_list):\n",
    "    if len(rainfall_list) > 0:\n",
    "        min_rainfall = min(rainfall_list)\n",
    "        max_rainfall = max(rainfall_list)\n",
    "        return min_rainfall, max_rainfall\n",
    "    else:\n",
    "        return None, None\n",
    "    \n",
    "rainfall_measurements = [10, 5, 7, 15, 3, 9, 12]\n",
    "min_rainfall, max_rainfall = get_min_max_rainfall(rainfall_measurements)\n",
    "print(\"Minimum rainfall:\", min_rainfall)\n",
    "print(\"Maximum rainfall:\", max_rainfall)\n",
    "\n",
    "## Your code here up"
   ]
  },
  {
   "cell_type": "markdown",
   "metadata": {},
   "source": [
    "## Exercise 9: Pest Control"
   ]
  },
  {
   "cell_type": "markdown",
   "metadata": {},
   "source": [
    "Create a function that takes the count of pests detected in a field and returns a recommendation for pest control based on the count. Please search for pests and pest control measures. Keys: if-else statement"
   ]
  },
  {
   "cell_type": "code",
   "execution_count": 21,
   "metadata": {},
   "outputs": [
    {
     "name": "stdout",
     "output_type": "stream",
     "text": [
      "Moderate pest count. Consider applying targeted pest control measures.\n"
     ]
    }
   ],
   "source": [
    "## Your code here down\n",
    "def recommend_pest_control(pest_count):\n",
    "    if pest_count == 0:\n",
    "        return \"No pests detected. No pest control measures needed.\"\n",
    "    elif pest_count <= 5:\n",
    "        return \"Low pest count. Monitor the situation and take preventive measures if necessary.\"\n",
    "    elif pest_count <= 10:\n",
    "        return \"Moderate pest count. Consider applying targeted pest control measures.\"\n",
    "    else:\n",
    "        return \"High pest count. Implement aggressive pest control measures immediately.\"\n",
    "    \n",
    "\n",
    "pest_count = 7\n",
    "recommendation = recommend_pest_control(pest_count)\n",
    "print(recommendation)\n",
    "\n",
    "## Your code here up"
   ]
  },
  {
   "cell_type": "markdown",
   "metadata": {},
   "source": [
    "## Exercise 10: Weed Control"
   ]
  },
  {
   "cell_type": "markdown",
   "metadata": {},
   "source": [
    "Create a function that takes a list of weed names and suggests appropriate herbicides for weed control. Keys: For Loops and dictionary."
   ]
  },
  {
   "cell_type": "code",
   "execution_count": 12,
   "metadata": {},
   "outputs": [
    {
     "name": "stdout",
     "output_type": "stream",
     "text": [
      "For dandelion: Glyphosate, 2,4-D\n",
      "For crabgrass: Quinclorac, Pendimethalin\n",
      "For bindweed: Dicamba, Glyphosate\n",
      "For thistle: Clopyralid, 2,4-D\n",
      "For unknownweed: No specific herbicide recommendation for unknownweed\n"
     ]
    }
   ],
   "source": [
    "## Your code here down\n",
    "def suggest_herbicides(weed_list):\n",
    "    herbicides = {\n",
    "        \"dandelion\": \"Glyphosate, 2,4-D\",\n",
    "        \"crabgrass\": \"Quinclorac, Pendimethalin\",\n",
    "        \"bindweed\": \"Dicamba, Glyphosate\",\n",
    "        \"pigweed\": \"Atrazine, Metolachlor\",\n",
    "        \"thistle\": \"Clopyralid, 2,4-D\",\n",
    "        # Add more weed-herbicide mappings as needed\n",
    "    }\n",
    "\n",
    "    suggested_herbicides = []\n",
    "    for weed in weed_list:\n",
    "        if weed in herbicides:\n",
    "            suggested_herbicides.append(herbicides[weed])\n",
    "        else:\n",
    "            suggested_herbicides.append(\"No specific herbicide recommendation for {}\".format(weed))\n",
    "\n",
    "    return suggested_herbicides\n",
    "\n",
    "weeds = [\"dandelion\", \"crabgrass\", \"bindweed\", \"thistle\", \"unknownweed\"]\n",
    "suggested_herbicides = suggest_herbicides(weeds)\n",
    "for i, weed in enumerate(weeds):\n",
    "    print(\"For {}: {}\".format(weed, suggested_herbicides[i]))\n",
    "\n",
    "## Your code here up"
   ]
  },
  {
   "cell_type": "code",
   "execution_count": null,
   "metadata": {},
   "outputs": [],
   "source": []
  }
 ],
 "metadata": {
  "kernelspec": {
   "display_name": "Python 3 (ipykernel)",
   "language": "python",
   "name": "python3"
  },
  "language_info": {
   "codemirror_mode": {
    "name": "ipython",
    "version": 3
   },
   "file_extension": ".py",
   "mimetype": "text/x-python",
   "name": "python",
   "nbconvert_exporter": "python",
   "pygments_lexer": "ipython3",
   "version": "3.10.9"
  }
 },
 "nbformat": 4,
 "nbformat_minor": 2
}
