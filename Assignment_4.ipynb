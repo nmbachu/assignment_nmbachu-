{
 "cells": [
  {
   "cell_type": "markdown",
   "metadata": {},
   "source": [
    "# Assignment 4"
   ]
  },
  {
   "cell_type": "markdown",
   "metadata": {},
   "source": [
    "**Please follow the instructions**"
   ]
  },
  {
   "cell_type": "code",
   "execution_count": 316,
   "metadata": {
    "scrolled": true
   },
   "outputs": [
    {
     "name": "stdout",
     "output_type": "stream",
     "text": [
      "Assignment 4: Solutions by Nkem Mbachu\n",
      "Local Time: 2023-07-04 20:30:34\n",
      "Computer ID: Nkem\n"
     ]
    }
   ],
   "source": [
    "import datetime\n",
    "import socket\n",
    "\n",
    "# Get local time\n",
    "local_time = datetime.datetime.now().strftime(\"%Y-%m-%d %H:%M:%S\")\n",
    "\n",
    "# Get computer ID or hostname\n",
    "computer_id = socket.gethostname()\n",
    "\n",
    "# Print output with local time and computer ID\n",
    "print('Assignment 4: Solutions by Nkem Mbachu') # Please change your name here\n",
    "print('Local Time:', local_time)\n",
    "print('Computer ID:', computer_id)"
   ]
  },
  {
   "cell_type": "markdown",
   "metadata": {},
   "source": [
    "# Objective"
   ]
  },
  {
   "cell_type": "markdown",
   "metadata": {},
   "source": [
    "The goal of this project to extract World populattion by countries. \n",
    "Please extarct data from the following data sources: \n",
    "\n",
    "- List of independent and dependency countries: 'https://en.wikipedia.org/wiki/List_of_countries_and_dependencies_by_population'. \n",
    "- List of UN recognized countries: 'https://en.wikipedia.org/wiki/List_of_sovereign_states'"
   ]
  },
  {
   "cell_type": "markdown",
   "metadata": {},
   "source": [
    "# ETL"
   ]
  },
  {
   "cell_type": "markdown",
   "metadata": {},
   "source": [
    "Task 1:\n",
    "- Read the first datasets and display the first 4 rows.\n",
    "- Convert the data types accordingly (e.g., float, string, integer) and perform data cleaning if necessary.\n",
    "- If the population is given in millions (e.g., Azerbaijan Population 10,000,000), divide it by 1,000,000 to represent it as 10.0.\n",
    "\n",
    "Task 2:\n",
    "- Read the second dataframe and display the first 4 rows.\n",
    "- Adjust the data types of the second dataframe as needed.\n",
    "\n",
    "Task 3:\n",
    "- Merge dataframe 1 and dataframe 2 based on the country name. Ensure that the countries have the same name and can be merged together. You can use the following command: `pd.merge(df2, df1, on='Country', how='inner')`.\n",
    "\n",
    "Task 4:\n",
    "- Save the merged dataframe as a CSV file and submit it. Include only the 'Country' and 'Population' columns, excluding any other columns.\n",
    "\n",
    "Please submit the dataset before our class on Tuesday, as I will utilize it for data visualization purposes. You can also upload the dataset to your GitHub account. I will choose the cleanest and correct dataset for our next training."
   ]
  },
  {
   "cell_type": "code",
   "execution_count": 317,
   "metadata": {},
   "outputs": [],
   "source": [
    "import pandas as pd\n",
    "import numpy as np"
   ]
  },
  {
   "cell_type": "code",
   "execution_count": 318,
   "metadata": {},
   "outputs": [],
   "source": [
    "url1 = 'https://en.wikipedia.org/wiki/List_of_countries_and_dependencies_by_population'\n",
    "\n",
    "url2 = 'https://en.wikipedia.org/wiki/List_of_sovereign_states'"
   ]
  },
  {
   "cell_type": "code",
   "execution_count": 319,
   "metadata": {},
   "outputs": [],
   "source": [
    "df1=pd.read_html(url1)[1]"
   ]
  },
  {
   "cell_type": "code",
   "execution_count": 320,
   "metadata": {},
   "outputs": [
    {
     "data": {
      "text/html": [
       "<div>\n",
       "<style scoped>\n",
       "    .dataframe tbody tr th:only-of-type {\n",
       "        vertical-align: middle;\n",
       "    }\n",
       "\n",
       "    .dataframe tbody tr th {\n",
       "        vertical-align: top;\n",
       "    }\n",
       "\n",
       "    .dataframe thead th {\n",
       "        text-align: right;\n",
       "    }\n",
       "</style>\n",
       "<table border=\"1\" class=\"dataframe\">\n",
       "  <thead>\n",
       "    <tr style=\"text-align: right;\">\n",
       "      <th></th>\n",
       "      <th>Unnamed: 0</th>\n",
       "      <th>Country / Dependency</th>\n",
       "      <th>Population</th>\n",
       "      <th>% of world</th>\n",
       "      <th>Date</th>\n",
       "      <th>Source (official or from the United Nations)</th>\n",
       "      <th>Unnamed: 6</th>\n",
       "    </tr>\n",
       "  </thead>\n",
       "  <tbody>\n",
       "    <tr>\n",
       "      <th>0</th>\n",
       "      <td>–</td>\n",
       "      <td>World</td>\n",
       "      <td>8046014000</td>\n",
       "      <td>100%</td>\n",
       "      <td>4 Jul 2023</td>\n",
       "      <td>UN projection[3]</td>\n",
       "      <td>NaN</td>\n",
       "    </tr>\n",
       "    <tr>\n",
       "      <th>1</th>\n",
       "      <td>1</td>\n",
       "      <td>China</td>\n",
       "      <td>1411750000</td>\n",
       "      <td>NaN</td>\n",
       "      <td>31 Dec 2022</td>\n",
       "      <td>Official estimate[4]</td>\n",
       "      <td>[b]</td>\n",
       "    </tr>\n",
       "    <tr>\n",
       "      <th>2</th>\n",
       "      <td>2</td>\n",
       "      <td>India</td>\n",
       "      <td>1392329000</td>\n",
       "      <td>NaN</td>\n",
       "      <td>1 Mar 2023</td>\n",
       "      <td>Official projection[5]</td>\n",
       "      <td>[c]</td>\n",
       "    </tr>\n",
       "    <tr>\n",
       "      <th>3</th>\n",
       "      <td>3</td>\n",
       "      <td>United States</td>\n",
       "      <td>335011000</td>\n",
       "      <td>NaN</td>\n",
       "      <td>4 Jul 2023</td>\n",
       "      <td>National population clock[7]</td>\n",
       "      <td>[d]</td>\n",
       "    </tr>\n",
       "  </tbody>\n",
       "</table>\n",
       "</div>"
      ],
      "text/plain": [
       "  Unnamed: 0 Country / Dependency  Population % of world         Date  \\\n",
       "0          –                World  8046014000       100%   4 Jul 2023   \n",
       "1          1                China  1411750000        NaN  31 Dec 2022   \n",
       "2          2                India  1392329000        NaN   1 Mar 2023   \n",
       "3          3        United States   335011000        NaN   4 Jul 2023   \n",
       "\n",
       "  Source (official or from the United Nations) Unnamed: 6  \n",
       "0                             UN projection[3]        NaN  \n",
       "1                         Official estimate[4]        [b]  \n",
       "2                       Official projection[5]        [c]  \n",
       "3                 National population clock[7]        [d]  "
      ]
     },
     "execution_count": 320,
     "metadata": {},
     "output_type": "execute_result"
    }
   ],
   "source": [
    "df1.head(4)"
   ]
  },
  {
   "cell_type": "code",
   "execution_count": 321,
   "metadata": {},
   "outputs": [
    {
     "name": "stdout",
     "output_type": "stream",
     "text": [
      "<class 'pandas.core.frame.DataFrame'>\n",
      "RangeIndex: 242 entries, 0 to 241\n",
      "Data columns (total 7 columns):\n",
      " #   Column                                        Non-Null Count  Dtype \n",
      "---  ------                                        --------------  ----- \n",
      " 0   Unnamed: 0                                    242 non-null    object\n",
      " 1   Country / Dependency                          242 non-null    object\n",
      " 2   Population                                    242 non-null    int64 \n",
      " 3   % of world                                    1 non-null      object\n",
      " 4   Date                                          242 non-null    object\n",
      " 5   Source (official or from the United Nations)  242 non-null    object\n",
      " 6   Unnamed: 6                                    31 non-null     object\n",
      "dtypes: int64(1), object(6)\n",
      "memory usage: 13.4+ KB\n"
     ]
    }
   ],
   "source": [
    "df1.info()"
   ]
  },
  {
   "cell_type": "code",
   "execution_count": 322,
   "metadata": {},
   "outputs": [],
   "source": [
    "df1['Country / Dependency'] = df1['Country / Dependency'].astype('string')"
   ]
  },
  {
   "cell_type": "code",
   "execution_count": 323,
   "metadata": {},
   "outputs": [],
   "source": [
    "df1 = df1.rename(columns={'Country / Dependency': 'Country'})"
   ]
  },
  {
   "cell_type": "code",
   "execution_count": 324,
   "metadata": {},
   "outputs": [],
   "source": [
    "df1['Population']=df1['Population'].astype('float')"
   ]
  },
  {
   "cell_type": "code",
   "execution_count": 325,
   "metadata": {},
   "outputs": [
    {
     "name": "stdout",
     "output_type": "stream",
     "text": [
      "<class 'pandas.core.frame.DataFrame'>\n",
      "RangeIndex: 242 entries, 0 to 241\n",
      "Data columns (total 7 columns):\n",
      " #   Column                                        Non-Null Count  Dtype  \n",
      "---  ------                                        --------------  -----  \n",
      " 0   Unnamed: 0                                    242 non-null    object \n",
      " 1   Country                                       242 non-null    string \n",
      " 2   Population                                    242 non-null    float64\n",
      " 3   % of world                                    1 non-null      object \n",
      " 4   Date                                          242 non-null    object \n",
      " 5   Source (official or from the United Nations)  242 non-null    object \n",
      " 6   Unnamed: 6                                    31 non-null     object \n",
      "dtypes: float64(1), object(5), string(1)\n",
      "memory usage: 13.4+ KB\n"
     ]
    }
   ],
   "source": [
    "df1.info()"
   ]
  },
  {
   "cell_type": "code",
   "execution_count": 326,
   "metadata": {},
   "outputs": [],
   "source": [
    "df1['Population']=df1['Population'] / 1000000"
   ]
  },
  {
   "cell_type": "code",
   "execution_count": 327,
   "metadata": {},
   "outputs": [],
   "source": [
    "df1=df1.drop(0, axis=0)"
   ]
  },
  {
   "cell_type": "code",
   "execution_count": 328,
   "metadata": {},
   "outputs": [
    {
     "data": {
      "text/plain": [
       "<StringArray>\n",
       "[                                            'China',\n",
       "                                             'India',\n",
       "                                     'United States',\n",
       "                                         'Indonesia',\n",
       "                                          'Pakistan',\n",
       "                                           'Nigeria',\n",
       "                                            'Brazil',\n",
       "                                        'Bangladesh',\n",
       "                                            'Russia',\n",
       "                                            'Mexico',\n",
       " ...\n",
       " 'Saint Helena, Ascension and Tristan da Cunha (UK)',\n",
       "                                   'Montserrat (UK)',\n",
       "                             'Falkland Islands (UK)',\n",
       "                        'Norfolk Island (Australia)',\n",
       "                      'Christmas Island (Australia)',\n",
       "                                      'Tokelau (NZ)',\n",
       "                                              'Niue',\n",
       "               'Cocos (Keeling) Islands (Australia)',\n",
       "                                      'Vatican City',\n",
       "                             'Pitcairn Islands (UK)']\n",
       "Length: 241, dtype: string"
      ]
     },
     "execution_count": 328,
     "metadata": {},
     "output_type": "execute_result"
    }
   ],
   "source": [
    "df1['Country'].unique()"
   ]
  },
  {
   "cell_type": "code",
   "execution_count": 329,
   "metadata": {},
   "outputs": [],
   "source": [
    "df2=pd.read_html(url2)[1]"
   ]
  },
  {
   "cell_type": "code",
   "execution_count": 330,
   "metadata": {},
   "outputs": [
    {
     "data": {
      "text/html": [
       "<div>\n",
       "<style scoped>\n",
       "    .dataframe tbody tr th:only-of-type {\n",
       "        vertical-align: middle;\n",
       "    }\n",
       "\n",
       "    .dataframe tbody tr th {\n",
       "        vertical-align: top;\n",
       "    }\n",
       "\n",
       "    .dataframe thead th {\n",
       "        text-align: right;\n",
       "    }\n",
       "</style>\n",
       "<table border=\"1\" class=\"dataframe\">\n",
       "  <thead>\n",
       "    <tr style=\"text-align: right;\">\n",
       "      <th></th>\n",
       "      <th>Common and formal names</th>\n",
       "      <th>Membership within the UN System[c]</th>\n",
       "      <th>Sovereignty dispute[d]</th>\n",
       "      <th>Further information on status and recognition of sovereignty[f]</th>\n",
       "    </tr>\n",
       "  </thead>\n",
       "  <tbody>\n",
       "    <tr>\n",
       "      <th>0</th>\n",
       "      <td>Afghanistan</td>\n",
       "      <td>NaN</td>\n",
       "      <td>NaN</td>\n",
       "      <td>The de facto ruling government, the Islamic Em...</td>\n",
       "    </tr>\n",
       "    <tr>\n",
       "      <th>1</th>\n",
       "      <td>Albania – Republic of Albania</td>\n",
       "      <td>NaN</td>\n",
       "      <td>NaN</td>\n",
       "      <td>NaN</td>\n",
       "    </tr>\n",
       "    <tr>\n",
       "      <th>2</th>\n",
       "      <td>Algeria – People's Democratic Republic of Algeria</td>\n",
       "      <td>NaN</td>\n",
       "      <td>NaN</td>\n",
       "      <td>NaN</td>\n",
       "    </tr>\n",
       "    <tr>\n",
       "      <th>3</th>\n",
       "      <td>Andorra – Principality of Andorra</td>\n",
       "      <td>NaN</td>\n",
       "      <td>NaN</td>\n",
       "      <td>Andorra is a co-principality in which the offi...</td>\n",
       "    </tr>\n",
       "  </tbody>\n",
       "</table>\n",
       "</div>"
      ],
      "text/plain": [
       "                             Common and formal names  \\\n",
       "0                                        Afghanistan   \n",
       "1                      Albania – Republic of Albania   \n",
       "2  Algeria – People's Democratic Republic of Algeria   \n",
       "3                  Andorra – Principality of Andorra   \n",
       "\n",
       "  Membership within the UN System[c] Sovereignty dispute[d]  \\\n",
       "0                                NaN                    NaN   \n",
       "1                                NaN                    NaN   \n",
       "2                                NaN                    NaN   \n",
       "3                                NaN                    NaN   \n",
       "\n",
       "  Further information on status and recognition of sovereignty[f]  \n",
       "0  The de facto ruling government, the Islamic Em...               \n",
       "1                                                NaN               \n",
       "2                                                NaN               \n",
       "3  Andorra is a co-principality in which the offi...               "
      ]
     },
     "execution_count": 330,
     "metadata": {},
     "output_type": "execute_result"
    }
   ],
   "source": [
    "df2.head(4)"
   ]
  },
  {
   "cell_type": "code",
   "execution_count": 331,
   "metadata": {},
   "outputs": [
    {
     "name": "stdout",
     "output_type": "stream",
     "text": [
      "<class 'pandas.core.frame.DataFrame'>\n",
      "RangeIndex: 195 entries, 0 to 194\n",
      "Data columns (total 4 columns):\n",
      " #   Column                                                           Non-Null Count  Dtype \n",
      "---  ------                                                           --------------  ----- \n",
      " 0   Common and formal names                                          195 non-null    object\n",
      " 1   Membership within the UN System[c]                               2 non-null      object\n",
      " 2   Sovereignty dispute[d]                                           7 non-null      object\n",
      " 3   Further information on status and recognition of sovereignty[f]  95 non-null     object\n",
      "dtypes: object(4)\n",
      "memory usage: 6.2+ KB\n"
     ]
    }
   ],
   "source": [
    "df2.info()"
   ]
  },
  {
   "cell_type": "code",
   "execution_count": 332,
   "metadata": {},
   "outputs": [],
   "source": [
    "df2['Common and formal names'] = df2['Common and formal names'].astype('string')"
   ]
  },
  {
   "cell_type": "code",
   "execution_count": 333,
   "metadata": {},
   "outputs": [],
   "source": [
    "df2 = df2.rename(columns={'Common and formal names': 'Country'})"
   ]
  },
  {
   "cell_type": "code",
   "execution_count": 338,
   "metadata": {
    "scrolled": true
   },
   "outputs": [
    {
     "data": {
      "text/plain": [
       "<StringArray>\n",
       "[        'Afghanistan',             'Albania',             'Algeria',\n",
       "             'Andorra',              'Angola', 'Antigua and Barbuda',\n",
       "           'Argentina',             'Armenia',           'Australia',\n",
       "             'Austria',\n",
       " ...\n",
       "       'United States',             'Uruguay',          'Uzbekistan',\n",
       "             'Vanuatu',        'Vatican City',           'Venezuela',\n",
       "             'Vietnam',               'Yemen',              'Zambia',\n",
       "            'Zimbabwe']\n",
       "Length: 195, dtype: string"
      ]
     },
     "execution_count": 338,
     "metadata": {},
     "output_type": "execute_result"
    }
   ],
   "source": [
    "df2['Country'].unique()"
   ]
  },
  {
   "cell_type": "code",
   "execution_count": 337,
   "metadata": {},
   "outputs": [],
   "source": [
    "df2 = df2.replace(to_replace=r'.–.+', value= '', regex=True)"
   ]
  },
  {
   "cell_type": "code",
   "execution_count": 341,
   "metadata": {
    "scrolled": true
   },
   "outputs": [],
   "source": [
    "df_merge = pd.merge(df2, df1, on='Country', how='inner')"
   ]
  },
  {
   "cell_type": "code",
   "execution_count": 342,
   "metadata": {},
   "outputs": [
    {
     "data": {
      "text/html": [
       "<div>\n",
       "<style scoped>\n",
       "    .dataframe tbody tr th:only-of-type {\n",
       "        vertical-align: middle;\n",
       "    }\n",
       "\n",
       "    .dataframe tbody tr th {\n",
       "        vertical-align: top;\n",
       "    }\n",
       "\n",
       "    .dataframe thead th {\n",
       "        text-align: right;\n",
       "    }\n",
       "</style>\n",
       "<table border=\"1\" class=\"dataframe\">\n",
       "  <thead>\n",
       "    <tr style=\"text-align: right;\">\n",
       "      <th></th>\n",
       "      <th>Country</th>\n",
       "      <th>Membership within the UN System[c]</th>\n",
       "      <th>Sovereignty dispute[d]</th>\n",
       "      <th>Further information on status and recognition of sovereignty[f]</th>\n",
       "      <th>Unnamed: 0</th>\n",
       "      <th>Population</th>\n",
       "      <th>% of world</th>\n",
       "      <th>Date</th>\n",
       "      <th>Source (official or from the United Nations)</th>\n",
       "      <th>Unnamed: 6</th>\n",
       "    </tr>\n",
       "  </thead>\n",
       "  <tbody>\n",
       "    <tr>\n",
       "      <th>0</th>\n",
       "      <td>Afghanistan</td>\n",
       "      <td>NaN</td>\n",
       "      <td>NaN</td>\n",
       "      <td>The de facto ruling government, the Islamic Em...</td>\n",
       "      <td>41</td>\n",
       "      <td>34.262840</td>\n",
       "      <td>NaN</td>\n",
       "      <td>1 Jan 2023</td>\n",
       "      <td>Official estimate[45]</td>\n",
       "      <td>NaN</td>\n",
       "    </tr>\n",
       "    <tr>\n",
       "      <th>1</th>\n",
       "      <td>Albania</td>\n",
       "      <td>NaN</td>\n",
       "      <td>NaN</td>\n",
       "      <td>NaN</td>\n",
       "      <td>138</td>\n",
       "      <td>2.793592</td>\n",
       "      <td>NaN</td>\n",
       "      <td>1 Jan 2022</td>\n",
       "      <td>Official estimate[142]</td>\n",
       "      <td>NaN</td>\n",
       "    </tr>\n",
       "    <tr>\n",
       "      <th>2</th>\n",
       "      <td>Algeria</td>\n",
       "      <td>NaN</td>\n",
       "      <td>NaN</td>\n",
       "      <td>NaN</td>\n",
       "      <td>32</td>\n",
       "      <td>45.400000</td>\n",
       "      <td>NaN</td>\n",
       "      <td>1 Jan 2022</td>\n",
       "      <td>Official estimate[36]</td>\n",
       "      <td>NaN</td>\n",
       "    </tr>\n",
       "    <tr>\n",
       "      <th>3</th>\n",
       "      <td>Andorra</td>\n",
       "      <td>NaN</td>\n",
       "      <td>NaN</td>\n",
       "      <td>Andorra is a co-principality in which the offi...</td>\n",
       "      <td>185</td>\n",
       "      <td>0.082623</td>\n",
       "      <td>NaN</td>\n",
       "      <td>30 Apr 2023</td>\n",
       "      <td>Official estimate[197]</td>\n",
       "      <td>NaN</td>\n",
       "    </tr>\n",
       "    <tr>\n",
       "      <th>4</th>\n",
       "      <td>Angola</td>\n",
       "      <td>NaN</td>\n",
       "      <td>NaN</td>\n",
       "      <td>NaN</td>\n",
       "      <td>44</td>\n",
       "      <td>33.086278</td>\n",
       "      <td>NaN</td>\n",
       "      <td>30 Jun 2022</td>\n",
       "      <td>National annual projection[48]</td>\n",
       "      <td>NaN</td>\n",
       "    </tr>\n",
       "    <tr>\n",
       "      <th>...</th>\n",
       "      <td>...</td>\n",
       "      <td>...</td>\n",
       "      <td>...</td>\n",
       "      <td>...</td>\n",
       "      <td>...</td>\n",
       "      <td>...</td>\n",
       "      <td>...</td>\n",
       "      <td>...</td>\n",
       "      <td>...</td>\n",
       "      <td>...</td>\n",
       "    </tr>\n",
       "    <tr>\n",
       "      <th>181</th>\n",
       "      <td>Venezuela</td>\n",
       "      <td>NaN</td>\n",
       "      <td>NaN</td>\n",
       "      <td>Venezuela is a federation of 23 states, one ca...</td>\n",
       "      <td>51</td>\n",
       "      <td>28.302000</td>\n",
       "      <td>NaN</td>\n",
       "      <td>30 Jun 2019</td>\n",
       "      <td>Official projection[55]</td>\n",
       "      <td>NaN</td>\n",
       "    </tr>\n",
       "    <tr>\n",
       "      <th>182</th>\n",
       "      <td>Vietnam</td>\n",
       "      <td>NaN</td>\n",
       "      <td>NaN</td>\n",
       "      <td>NaN</td>\n",
       "      <td>15</td>\n",
       "      <td>99.460000</td>\n",
       "      <td>NaN</td>\n",
       "      <td>Dec 2022</td>\n",
       "      <td>Official estimate[19]</td>\n",
       "      <td>NaN</td>\n",
       "    </tr>\n",
       "    <tr>\n",
       "      <th>183</th>\n",
       "      <td>Yemen</td>\n",
       "      <td>NaN</td>\n",
       "      <td>NaN</td>\n",
       "      <td>NaN</td>\n",
       "      <td>47</td>\n",
       "      <td>31.890000</td>\n",
       "      <td>NaN</td>\n",
       "      <td>1 Jul 2022</td>\n",
       "      <td>Official estimate[51]</td>\n",
       "      <td>NaN</td>\n",
       "    </tr>\n",
       "    <tr>\n",
       "      <th>184</th>\n",
       "      <td>Zambia</td>\n",
       "      <td>NaN</td>\n",
       "      <td>NaN</td>\n",
       "      <td>NaN</td>\n",
       "      <td>64</td>\n",
       "      <td>19.610769</td>\n",
       "      <td>NaN</td>\n",
       "      <td>14 Sep 2022</td>\n",
       "      <td>2022 census result[68]</td>\n",
       "      <td>NaN</td>\n",
       "    </tr>\n",
       "    <tr>\n",
       "      <th>185</th>\n",
       "      <td>Zimbabwe</td>\n",
       "      <td>NaN</td>\n",
       "      <td>NaN</td>\n",
       "      <td>NaN</td>\n",
       "      <td>73</td>\n",
       "      <td>15.178979</td>\n",
       "      <td>NaN</td>\n",
       "      <td>20 Apr 2022</td>\n",
       "      <td>2022 census result[77]</td>\n",
       "      <td>NaN</td>\n",
       "    </tr>\n",
       "  </tbody>\n",
       "</table>\n",
       "<p>186 rows × 10 columns</p>\n",
       "</div>"
      ],
      "text/plain": [
       "         Country Membership within the UN System[c] Sovereignty dispute[d]  \\\n",
       "0    Afghanistan                                NaN                    NaN   \n",
       "1        Albania                                NaN                    NaN   \n",
       "2        Algeria                                NaN                    NaN   \n",
       "3        Andorra                                NaN                    NaN   \n",
       "4         Angola                                NaN                    NaN   \n",
       "..           ...                                ...                    ...   \n",
       "181    Venezuela                                NaN                    NaN   \n",
       "182      Vietnam                                NaN                    NaN   \n",
       "183        Yemen                                NaN                    NaN   \n",
       "184       Zambia                                NaN                    NaN   \n",
       "185     Zimbabwe                                NaN                    NaN   \n",
       "\n",
       "    Further information on status and recognition of sovereignty[f]  \\\n",
       "0    The de facto ruling government, the Islamic Em...                \n",
       "1                                                  NaN                \n",
       "2                                                  NaN                \n",
       "3    Andorra is a co-principality in which the offi...                \n",
       "4                                                  NaN                \n",
       "..                                                 ...                \n",
       "181  Venezuela is a federation of 23 states, one ca...                \n",
       "182                                                NaN                \n",
       "183                                                NaN                \n",
       "184                                                NaN                \n",
       "185                                                NaN                \n",
       "\n",
       "    Unnamed: 0  Population % of world         Date  \\\n",
       "0           41   34.262840        NaN   1 Jan 2023   \n",
       "1          138    2.793592        NaN   1 Jan 2022   \n",
       "2           32   45.400000        NaN   1 Jan 2022   \n",
       "3          185    0.082623        NaN  30 Apr 2023   \n",
       "4           44   33.086278        NaN  30 Jun 2022   \n",
       "..         ...         ...        ...          ...   \n",
       "181         51   28.302000        NaN  30 Jun 2019   \n",
       "182         15   99.460000        NaN     Dec 2022   \n",
       "183         47   31.890000        NaN   1 Jul 2022   \n",
       "184         64   19.610769        NaN  14 Sep 2022   \n",
       "185         73   15.178979        NaN  20 Apr 2022   \n",
       "\n",
       "    Source (official or from the United Nations) Unnamed: 6  \n",
       "0                          Official estimate[45]        NaN  \n",
       "1                         Official estimate[142]        NaN  \n",
       "2                          Official estimate[36]        NaN  \n",
       "3                         Official estimate[197]        NaN  \n",
       "4                 National annual projection[48]        NaN  \n",
       "..                                           ...        ...  \n",
       "181                      Official projection[55]        NaN  \n",
       "182                        Official estimate[19]        NaN  \n",
       "183                        Official estimate[51]        NaN  \n",
       "184                       2022 census result[68]        NaN  \n",
       "185                       2022 census result[77]        NaN  \n",
       "\n",
       "[186 rows x 10 columns]"
      ]
     },
     "execution_count": 342,
     "metadata": {},
     "output_type": "execute_result"
    }
   ],
   "source": [
    "df_merge"
   ]
  },
  {
   "cell_type": "code",
   "execution_count": 343,
   "metadata": {},
   "outputs": [],
   "source": [
    "df_final = df_merge[['Country', 'Population']]"
   ]
  },
  {
   "cell_type": "code",
   "execution_count": 344,
   "metadata": {
    "scrolled": false
   },
   "outputs": [
    {
     "data": {
      "text/html": [
       "<div>\n",
       "<style scoped>\n",
       "    .dataframe tbody tr th:only-of-type {\n",
       "        vertical-align: middle;\n",
       "    }\n",
       "\n",
       "    .dataframe tbody tr th {\n",
       "        vertical-align: top;\n",
       "    }\n",
       "\n",
       "    .dataframe thead th {\n",
       "        text-align: right;\n",
       "    }\n",
       "</style>\n",
       "<table border=\"1\" class=\"dataframe\">\n",
       "  <thead>\n",
       "    <tr style=\"text-align: right;\">\n",
       "      <th></th>\n",
       "      <th>Country</th>\n",
       "      <th>Population</th>\n",
       "    </tr>\n",
       "  </thead>\n",
       "  <tbody>\n",
       "    <tr>\n",
       "      <th>0</th>\n",
       "      <td>Afghanistan</td>\n",
       "      <td>34.262840</td>\n",
       "    </tr>\n",
       "    <tr>\n",
       "      <th>1</th>\n",
       "      <td>Albania</td>\n",
       "      <td>2.793592</td>\n",
       "    </tr>\n",
       "    <tr>\n",
       "      <th>2</th>\n",
       "      <td>Algeria</td>\n",
       "      <td>45.400000</td>\n",
       "    </tr>\n",
       "    <tr>\n",
       "      <th>3</th>\n",
       "      <td>Andorra</td>\n",
       "      <td>0.082623</td>\n",
       "    </tr>\n",
       "    <tr>\n",
       "      <th>4</th>\n",
       "      <td>Angola</td>\n",
       "      <td>33.086278</td>\n",
       "    </tr>\n",
       "    <tr>\n",
       "      <th>...</th>\n",
       "      <td>...</td>\n",
       "      <td>...</td>\n",
       "    </tr>\n",
       "    <tr>\n",
       "      <th>181</th>\n",
       "      <td>Venezuela</td>\n",
       "      <td>28.302000</td>\n",
       "    </tr>\n",
       "    <tr>\n",
       "      <th>182</th>\n",
       "      <td>Vietnam</td>\n",
       "      <td>99.460000</td>\n",
       "    </tr>\n",
       "    <tr>\n",
       "      <th>183</th>\n",
       "      <td>Yemen</td>\n",
       "      <td>31.890000</td>\n",
       "    </tr>\n",
       "    <tr>\n",
       "      <th>184</th>\n",
       "      <td>Zambia</td>\n",
       "      <td>19.610769</td>\n",
       "    </tr>\n",
       "    <tr>\n",
       "      <th>185</th>\n",
       "      <td>Zimbabwe</td>\n",
       "      <td>15.178979</td>\n",
       "    </tr>\n",
       "  </tbody>\n",
       "</table>\n",
       "<p>186 rows × 2 columns</p>\n",
       "</div>"
      ],
      "text/plain": [
       "         Country  Population\n",
       "0    Afghanistan   34.262840\n",
       "1        Albania    2.793592\n",
       "2        Algeria   45.400000\n",
       "3        Andorra    0.082623\n",
       "4         Angola   33.086278\n",
       "..           ...         ...\n",
       "181    Venezuela   28.302000\n",
       "182      Vietnam   99.460000\n",
       "183        Yemen   31.890000\n",
       "184       Zambia   19.610769\n",
       "185     Zimbabwe   15.178979\n",
       "\n",
       "[186 rows x 2 columns]"
      ]
     },
     "execution_count": 344,
     "metadata": {},
     "output_type": "execute_result"
    }
   ],
   "source": [
    "df_final"
   ]
  },
  {
   "cell_type": "code",
   "execution_count": 345,
   "metadata": {},
   "outputs": [],
   "source": [
    "df_final.to_csv('country_pop.csv', index=False)"
   ]
  }
 ],
 "metadata": {
  "kernelspec": {
   "display_name": "Python 3 (ipykernel)",
   "language": "python",
   "name": "python3"
  },
  "language_info": {
   "codemirror_mode": {
    "name": "ipython",
    "version": 3
   },
   "file_extension": ".py",
   "mimetype": "text/x-python",
   "name": "python",
   "nbconvert_exporter": "python",
   "pygments_lexer": "ipython3",
   "version": "3.10.9"
  }
 },
 "nbformat": 4,
 "nbformat_minor": 2
}
